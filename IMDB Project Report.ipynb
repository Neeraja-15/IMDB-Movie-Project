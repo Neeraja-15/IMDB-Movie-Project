{
 "cells": [
  {
   "cell_type": "markdown",
   "id": "961361be-f74c-412c-8f46-2a41fdbbab43",
   "metadata": {},
   "source": [
    "# Project Report: IMDb Top 250 Movies Scraper\n",
    "\n",
    "## About the Project\n",
    "**Title:** My IMDb Top 250 Movies Scraper Project  \n",
    "**Date:** March 14, 2025  \n",
    "**Author:** Neeraja\n",
    "\n",
    "This is my first try at web scraping! I wanted to get the top 250 movies from IMDb’s website (`https://www.imdb.com/chart/top/`)—their titles, years, and ratings. I used Python to scrape the data, fix it up, and save it in CSV files.\n",
    "\n",
    "## What I Did\n",
    "I broke it into 6 steps in my Jupyter Notebook:\n",
    "1. **Webpage Scraping and Store Raw data:** I used `requests` to get the IMDb page with some headers so it thinks I’m a browser, and used `BeautifulSoup` to find movie titles, years, and ratings, and saved them to `imdb_raw_data.csv`.\n",
    "2. **Generate Initial Data Sample:** I showed the first 5 movies to check my work and saved them too.\n",
    "3. **Process the Data:** I turned years and ratings into numbers and saved it as `imdb_processed_data.csv`.\n",
    "4. **Generate Processed Data Sample:** I showed 5 processed movies to see the changes.\n",
    "5. **Clean the Data:** I removed bad rows (missing stuff or old years) and saved it to `imdb_cleaned_data.csv`.\n",
    "6. **Prepare Final Dataset:** I sorted the movies by rating and saved the final list to `imdb_final_data.csv`.\n",
    "\n",
    "## How I Did It\n",
    "I used these tools:\n",
    "- **Python:** To write the code.\n",
    "- **requests:** To get the webpage.\n",
    "- **BeautifulSoup:** To find the movie info in the HTML.\n",
    "- **pandas:** To make tables and save CSV files.\n",
    "\n",
    "I ran everything in Jupyter Notebook, splitting it into cells with Markdown notes to explain each step.\n",
    "\n",
    "## Results\n",
    "I got these files:\n",
    "- `imdb_raw_data.csv`: The movies I scraped.\n",
    "- `imdb_raw_sample.csv`: First 5 raw movies.\n",
    "- `imdb_processed_data.csv`: Fixed years and ratings.\n",
    "- `imdb_processed_sample.csv`: First 5 processed movies.\n",
    "- `imdb_cleaned_data.csv`: Cleaned data.\n",
    "- `imdb_final_data.csv`: Final sorted list.\n",
    "\n",
    "## Problems I Faced\n",
    "- **Understanding Errors:** Sometimes my code stopped with weird messages like \"NoneType has no attribute 'get_text'.\" It took me a while to figure out that meant some HTML parts were missing, and I had to keep trying different ways to fix it.\n",
    "- **Finding the Right Tags:** The HTML classes were tricky to find. I had to guess and check a lot.\n",
    "\n",
    "## What I Learned\n",
    "- How to scrape a webpage with `requests` and `BeautifulSoup`.\n",
    "- How to use `pandas` to fix and clean data.\n",
    "- That some websites hide data with JavaScript, which is hard for beginners like me.\n",
    "\n",
    "## What I’d Do Next\n",
    "- Add more info like movie directors or runtime if I can find them.\n",
    "  \n",
    "## Conclusion\n",
    "I’m really pleased with how this project turned out! I didn’t get every movie I hoped for, but I still managed to scrape some data from IMDb and work with it. I learned a bunch about web scraping and cleaning data, and it feels like a great first step into coding projects like this!"
   ]
  }
 ],
 "metadata": {
  "kernelspec": {
   "display_name": "Python [conda env:base] *",
   "language": "python",
   "name": "conda-base-py"
  },
  "language_info": {
   "codemirror_mode": {
    "name": "ipython",
    "version": 3
   },
   "file_extension": ".py",
   "mimetype": "text/x-python",
   "name": "python",
   "nbconvert_exporter": "python",
   "pygments_lexer": "ipython3",
   "version": "3.12.7"
  }
 },
 "nbformat": 4,
 "nbformat_minor": 5
}
